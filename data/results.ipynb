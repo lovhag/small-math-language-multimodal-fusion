{
 "cells": [
  {
   "cell_type": "markdown",
   "metadata": {},
   "source": [
    "# Plot results for article"
   ]
  },
  {
   "cell_type": "code",
   "execution_count": 1,
   "metadata": {},
   "outputs": [],
   "source": [
    "from tensorflow.compat.v1.train import summary_iterator\n",
    "import pandas as pd\n",
    "import matplotlib\n",
    "import matplotlib.pyplot as plt\n",
    "import seaborn as sns\n",
    "import os\n",
    "from matplotlib.ticker import FormatStrFormatter"
   ]
  },
  {
   "cell_type": "markdown",
   "metadata": {},
   "source": [
    "We extract our results from tensorboard logs."
   ]
  },
  {
   "cell_type": "code",
   "execution_count": 2,
   "metadata": {},
   "outputs": [],
   "source": [
    "TAGS_OF_INTEREST = {\"epoch\", \"train_comp_accuracy\", \"val_comp_accuracy\"}\n",
    "\n",
    "def get_df_from_eventsfile(eventsfile_path):\n",
    "    results = {}\n",
    "    for e in summary_iterator(eventsfile_path):\n",
    "        if len(e.summary.value) > 0 and e.summary.value[0].tag in TAGS_OF_INTEREST:\n",
    "            if e.step in results:\n",
    "                results[e.step][e.summary.value[0].tag] = e.summary.value[0].simple_value\n",
    "            else:\n",
    "                results[e.step] = {e.summary.value[0].tag: e.summary.value[0].simple_value}\n",
    "    \n",
    "    df = pd.DataFrame(results).transpose()\n",
    "    return df\n",
    "\n",
    "def get_tfevents_files_in_folder(folder_path):\n",
    "    file_paths = []\n",
    "    for root, _, files in os.walk(folder_path, topdown=False):\n",
    "        for name in files:\n",
    "            if name.startswith(\"events.out.tfevents\"):\n",
    "                file_paths.append(os.path.join(root, name))\n",
    "    return file_paths\n",
    "\n",
    "def get_exp_num(eventsfile_path):\n",
    "    start_ix = eventsfile_path.index(\"exp=\")\n",
    "    end_ix = eventsfile_path.index(\"/\", start_ix)\n",
    "    return int(eventsfile_path[start_ix+4:end_ix])\n",
    "\n",
    "def get_version_num(eventsfile_path):\n",
    "    start_ix = eventsfile_path.index(\"v_\")\n",
    "    end_ix = eventsfile_path.index(\"/\", start_ix)\n",
    "    version_num = eventsfile_path[start_ix+2:end_ix]\n",
    "    if \"_\" in version_num:\n",
    "        main_version_num = int(version_num.split(\"_\")[0])\n",
    "        sub_version_num = int(version_num.split(\"_\")[1])\n",
    "    else:\n",
    "        main_version_num = int(version_num)\n",
    "        sub_version_num = None\n",
    "    return main_version_num, sub_version_num\n"
   ]
  },
  {
   "cell_type": "markdown",
   "metadata": {},
   "source": [
    "Different experiment numbers from the already obtained data are mapped to model names."
   ]
  },
  {
   "cell_type": "code",
   "execution_count": 3,
   "metadata": {},
   "outputs": [],
   "source": [
    "TRAIN_SET_RATIO = [0.01, 0.05, 0.1, 0.2]\n",
    "EMBEDDING = {\"2\": None, \"10\": \"VisualBERT\", \"11\": \"UNITER\", \"15\": \"LXMERT\", \"16\": \"LXMERT\", \"18\": \"LXMERT\"}\n",
    "STREAM_TYPE = {\"2\": \"single\", \"10\": \"single\", \"11\": \"single\", \"15\": \"dual\", \"16\": \"single\", \"18\": \"single\"}\n",
    "MODEL_NAME = {\"2\": \"GPT2text\", \"10\": \"VisualBERT\", \"11\": \"UNITER\", \"15\": \"LXMERTd\", \"16\": \"LXMERTs\", \"18\": \"LXMERTb\"} \n",
    "COMMENT = {\"2\": \"text\"}\n",
    "\n",
    "df = pd.DataFrame()"
   ]
  },
  {
   "cell_type": "markdown",
   "metadata": {},
   "source": [
    "Extract model results data from logs for all models."
   ]
  },
  {
   "cell_type": "code",
   "execution_count": 4,
   "metadata": {},
   "outputs": [
    {
     "name": "stdout",
     "output_type": "stream",
     "text": [
      "WARNING:tensorflow:From /Applications/anaconda3/envs/dl4nlp_assignment_1/lib/python3.8/site-packages/tensorflow/python/summary/summary_iterator.py:31: tf_record_iterator (from tensorflow.python.lib.io.tf_record) is deprecated and will be removed in a future version.\n",
      "Instructions for updating:\n",
      "Use eager execution and: \n",
      "`tf.data.TFRecordDataset(path)`\n"
     ]
    }
   ],
   "source": [
    "exp = \"2\"\n",
    "events_files = get_tfevents_files_in_folder(\"final_exp=\"+exp)\n",
    "results_entries = []\n",
    "for file in events_files:\n",
    "    tmp_df = get_df_from_eventsfile(file)\n",
    "    best_entry = tmp_df.iloc[tmp_df.val_comp_accuracy.argmax()].to_dict()\n",
    "    best_entry[\"exp\"] = get_exp_num(file)\n",
    "    best_entry[\"version\"], best_entry[\"sub_version\"] = get_version_num(file)\n",
    "    best_entry[\"train_set_ratio\"] = TRAIN_SET_RATIO[best_entry[\"version\"]]\n",
    "    best_entry[\"embedding\"] = EMBEDDING[exp]\n",
    "    best_entry[\"stream_type\"] = STREAM_TYPE[exp]\n",
    "    best_entry[\"comment\"] = COMMENT[exp] if exp in COMMENT else None\n",
    "    best_entry[\"model_name\"] = MODEL_NAME[exp]\n",
    "    best_entry[\"model_name_again\"] = MODEL_NAME[exp]\n",
    "\n",
    "    results_entries.append(best_entry)\n",
    "\n",
    "df = pd.concat((df, pd.DataFrame(results_entries).sort_values([\"exp\",\"version\"]).reset_index(drop=True)))\n"
   ]
  },
  {
   "cell_type": "code",
   "execution_count": 5,
   "metadata": {},
   "outputs": [],
   "source": [
    "exp = \"10\"\n",
    "events_files = get_tfevents_files_in_folder(\"final_exp=\"+exp)\n",
    "results_entries = []\n",
    "for file in events_files:\n",
    "    tmp_df = get_df_from_eventsfile(file)\n",
    "    best_entry = tmp_df.iloc[tmp_df.val_comp_accuracy.argmax()].to_dict()\n",
    "    best_entry[\"exp\"] = get_exp_num(file)\n",
    "    best_entry[\"version\"], best_entry[\"sub_version\"] = get_version_num(file)\n",
    "    best_entry[\"train_set_ratio\"] = TRAIN_SET_RATIO[best_entry[\"version\"]]\n",
    "    best_entry[\"embedding\"] = EMBEDDING[exp]\n",
    "    best_entry[\"stream_type\"] = STREAM_TYPE[exp]\n",
    "    best_entry[\"comment\"] = COMMENT[exp] if exp in COMMENT else None\n",
    "    best_entry[\"model_name\"] = MODEL_NAME[exp]\n",
    "    best_entry[\"model_name_again\"] = MODEL_NAME[exp]\n",
    "\n",
    "    results_entries.append(best_entry)\n",
    "\n",
    "df = pd.concat((df, pd.DataFrame(results_entries).sort_values([\"exp\",\"version\"]).reset_index(drop=True)))"
   ]
  },
  {
   "cell_type": "code",
   "execution_count": 6,
   "metadata": {},
   "outputs": [],
   "source": [
    "exp = \"11\"\n",
    "events_files = get_tfevents_files_in_folder(\"final_exp=\"+exp)\n",
    "results_entries = []\n",
    "for file in events_files:\n",
    "    tmp_df = get_df_from_eventsfile(file)\n",
    "    best_entry = tmp_df.iloc[tmp_df.val_comp_accuracy.argmax()].to_dict()\n",
    "    best_entry[\"exp\"] = get_exp_num(file)\n",
    "    best_entry[\"version\"], best_entry[\"sub_version\"] = get_version_num(file)\n",
    "    best_entry[\"train_set_ratio\"] = TRAIN_SET_RATIO[best_entry[\"version\"]]\n",
    "    best_entry[\"embedding\"] = EMBEDDING[exp]\n",
    "    best_entry[\"stream_type\"] = STREAM_TYPE[exp]\n",
    "    best_entry[\"comment\"] = COMMENT[exp] if exp in COMMENT else None\n",
    "    best_entry[\"model_name\"] = MODEL_NAME[exp]\n",
    "    best_entry[\"model_name_again\"] = MODEL_NAME[exp]\n",
    "\n",
    "    results_entries.append(best_entry)\n",
    "\n",
    "df = pd.concat((df, pd.DataFrame(results_entries).sort_values([\"exp\",\"version\"]).reset_index(drop=True)))\n"
   ]
  },
  {
   "cell_type": "code",
   "execution_count": 7,
   "metadata": {},
   "outputs": [],
   "source": [
    "exp = \"15\"\n",
    "events_files = get_tfevents_files_in_folder(\"final_exp=\"+exp)\n",
    "results_entries = []\n",
    "for file in events_files:\n",
    "    tmp_df = get_df_from_eventsfile(file)\n",
    "    best_entry = tmp_df.iloc[tmp_df.val_comp_accuracy.argmax()].to_dict()\n",
    "    best_entry[\"exp\"] = get_exp_num(file)\n",
    "    best_entry[\"version\"], best_entry[\"sub_version\"] = get_version_num(file)\n",
    "    best_entry[\"train_set_ratio\"] = TRAIN_SET_RATIO[best_entry[\"version\"]]\n",
    "    best_entry[\"embedding\"] = EMBEDDING[exp]\n",
    "    best_entry[\"stream_type\"] = STREAM_TYPE[exp]\n",
    "    best_entry[\"comment\"] = COMMENT[exp] if exp in COMMENT else None\n",
    "    best_entry[\"model_name\"] = MODEL_NAME[exp]\n",
    "    best_entry[\"model_name_again\"] = MODEL_NAME[exp]\n",
    "\n",
    "    results_entries.append(best_entry)\n",
    "\n",
    "df = pd.concat((df, pd.DataFrame(results_entries).sort_values([\"exp\",\"version\"]).reset_index(drop=True)))\n"
   ]
  },
  {
   "cell_type": "code",
   "execution_count": 8,
   "metadata": {},
   "outputs": [],
   "source": [
    "exp = \"16\"\n",
    "events_files = get_tfevents_files_in_folder(\"final_exp=\"+exp)\n",
    "results_entries = []\n",
    "for file in events_files:\n",
    "    tmp_df = get_df_from_eventsfile(file)\n",
    "    best_entry = tmp_df.iloc[tmp_df.val_comp_accuracy.argmax()].to_dict()\n",
    "    best_entry[\"exp\"] = get_exp_num(file)\n",
    "    best_entry[\"version\"], best_entry[\"sub_version\"] = get_version_num(file)\n",
    "    best_entry[\"train_set_ratio\"] = TRAIN_SET_RATIO[best_entry[\"version\"]]\n",
    "    best_entry[\"embedding\"] = EMBEDDING[exp]\n",
    "    best_entry[\"stream_type\"] = STREAM_TYPE[exp]\n",
    "    best_entry[\"comment\"] = COMMENT[exp] if exp in COMMENT else None\n",
    "    best_entry[\"model_name\"] = MODEL_NAME[exp]\n",
    "    best_entry[\"model_name_again\"] = MODEL_NAME[exp]\n",
    "\n",
    "    results_entries.append(best_entry)\n",
    "\n",
    "df = pd.concat((df, pd.DataFrame(results_entries).sort_values([\"exp\",\"version\"]).reset_index(drop=True)))\n"
   ]
  },
  {
   "cell_type": "code",
   "execution_count": 9,
   "metadata": {},
   "outputs": [],
   "source": [
    "exp = \"18\"\n",
    "events_files = get_tfevents_files_in_folder(\"final_exp=\"+exp)\n",
    "results_entries = []\n",
    "for file in events_files:\n",
    "    tmp_df = get_df_from_eventsfile(file)\n",
    "    best_entry = tmp_df.iloc[tmp_df.val_comp_accuracy.argmax()].to_dict()\n",
    "    best_entry[\"exp\"] = get_exp_num(file)\n",
    "    best_entry[\"version\"], best_entry[\"sub_version\"] = get_version_num(file)\n",
    "    best_entry[\"train_set_ratio\"] = TRAIN_SET_RATIO[best_entry[\"version\"]]\n",
    "    best_entry[\"embedding\"] = EMBEDDING[exp]\n",
    "    best_entry[\"stream_type\"] = STREAM_TYPE[exp]\n",
    "    best_entry[\"comment\"] = COMMENT[exp] if exp in COMMENT else None\n",
    "    best_entry[\"model_name\"] = MODEL_NAME[exp]\n",
    "    best_entry[\"model_name_again\"] = MODEL_NAME[exp]\n",
    "\n",
    "    results_entries.append(best_entry)\n",
    "\n",
    "df = pd.concat((df, pd.DataFrame(results_entries).sort_values([\"exp\",\"version\"]).reset_index(drop=True)))\n"
   ]
  },
  {
   "cell_type": "markdown",
   "metadata": {},
   "source": [
    "Plot final results"
   ]
  },
  {
   "cell_type": "code",
   "execution_count": 10,
   "metadata": {},
   "outputs": [],
   "source": [
    "sns.set(font_scale=0.7)\n",
    "sns.set_style(\"ticks\", {\"font.family\": \"serif\", 'axes.grid': True})"
   ]
  },
  {
   "cell_type": "code",
   "execution_count": 13,
   "metadata": {},
   "outputs": [
    {
     "data": {
      "image/png": "[encoded data removed]",
      "text/plain": [
       "<Figure size 144x144 with 1 Axes>"
      ]
     },
     "metadata": {},
     "output_type": "display_data"
    },
    {
     "data": {
      "image/png": "[encoded data removed]",
      "text/plain": [
       "<Figure size 144x144 with 1 Axes>"
      ]
     },
     "metadata": {},
     "output_type": "display_data"
    },
    {
     "data": {
      "image/png": "[encoded data removed]",
      "text/plain": [
       "<Figure size 144x144 with 1 Axes>"
      ]
     },
     "metadata": {},
     "output_type": "display_data"
    },
    {
     "data": {
      "image/png": "[encoded data removed]",
      "text/plain": [
       "<Figure size 144x144 with 1 Axes>"
      ]
     },
     "metadata": {},
     "output_type": "display_data"
    }
   ],
   "source": [
    "train_set_ratios = [0.01, 0.05, 0.1, 0.2]\n",
    "text_offset = [0.0001, 0.012, 0.0015, -0.002]\n",
    "\n",
    "for i, train_set_ratio in enumerate(train_set_ratios):\n",
    "    plt.figure(figsize=(2,2))\n",
    "    order = [\"GPT2text\", \"VisualBERT\", \"UNITER\", \"LXMERTs\", \"LXMERTb\", \"LXMERTd\"] #[\"GPT2text\", \"VisualBERT\", \"UNITER\" \"LXMERTs\", \"LXMERTbad\", \"LXMERTd\"]\n",
    "    ax = sns.pointplot(data=df[df[\"train_set_ratio\"]==train_set_ratio], order=order, x=\"model_name\", palette='colorblind', y=\"val_comp_accuracy\", hue=\"model_name\", ci=\"sd\")\n",
    "    ax.get_legend().remove()\n",
    "    ax.axvspan(xmin=4.5, xmax=5.5, facecolor=\"grey\", alpha=0.2)\n",
    "    plt.xlim([-0.5,5.5])\n",
    "    plt.ylim([0, 1.1])\n",
    "    ylim = ax.get_ylim()\n",
    "    plt.text(x=-0.45, y=ylim[0]+0.03, s=\"Single\")\n",
    "    plt.text(x=4.4, y=ylim[0]+0.03, s=\"Dual\")\n",
    "    plt.setp(ax.get_xticklabels(), rotation=60)\n",
    "\n",
    "    labels = [item.get_text() for item in ax.get_xticklabels()]\n",
    "    ax.set_xticklabels(labels)\n",
    "    ax.yaxis.set_major_formatter(FormatStrFormatter('%.2f'))\n",
    "\n",
    "    if i==0:\n",
    "        plt.ylabel(\"Accuracy\")\n",
    "    else:\n",
    "        plt.ylabel(\"\")\n",
    "    plt.xlabel(\"\")\n",
    "    figname = \"../images/\" + \"ratio_\" + str(train_set_ratio).replace(\".\", \"_\") + \".pdf\"\n",
    "    plt.savefig(figname, bbox_inches=\"tight\", pad_inches = 0)"
   ]
  }
 ],
 "metadata": {
  "interpreter": {
   "hash": "05753275db4c417a6068616f81db8df1fa4ccdafd9acd0a9b6ad9f4706cb5748"
  },
  "kernelspec": {
   "display_name": "Python 3.8.13 ('dl4nlp_assignment_1')",
   "language": "python",
   "name": "python3"
  },
  "language_info": {
   "codemirror_mode": {
    "name": "ipython",
    "version": 3
   },
   "file_extension": ".py",
   "mimetype": "text/x-python",
   "name": "python",
   "nbconvert_exporter": "python",
   "pygments_lexer": "ipython3",
   "version": "3.8.13"
  },
  "orig_nbformat": 4
 },
 "nbformat": 4,
 "nbformat_minor": 2
}
